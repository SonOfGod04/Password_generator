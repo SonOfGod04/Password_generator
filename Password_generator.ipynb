{
 "cells": [
  {
   "cell_type": "code",
   "execution_count": null,
   "metadata": {},
   "outputs": [],
   "source": [
    "import random  # random module generate random values\n",
    "from tkinter import *  # Importing all required modules from tkinter library\n",
    "from tkinter import messagebox  # messagebox module from tkinter is used for showing messages\n",
    "import pyperclip  # pyperclip module copy generated password to clipboard\n",
    "\n",
    "# Creating tkinter window\n",
    "gui = Tk()\n",
    "gui.title('Password Generator')\n",
    "gui.geometry('250x200')\n",
    "gui.resizable(0, 0)\n",
    "\n",
    "# Define colors\n",
    "bg_color = '#0077cc'  # Dark blue\n",
    "fg_color = '#ffffff'  # White\n",
    "\n",
    "\n",
    "# Function to generate password\n",
    "def process():\n",
    "    length = int(string_pass.get())  # Getting the password length from user input\n",
    "\n",
    "    # Defining character sets for password generation\n",
    "    lower = ['a', 'b', 'c', 'd', 'e', 'f', 'g', 'h', 'i', 'j', 'k', 'l', 'm', 'n', 'o', 'p', 'q', 'r', 's', 't', 'u', 'v', 'w', 'x', 'y', 'z']\n",
    "    upper = ['A', 'B', 'C', 'D', 'E', 'F', 'G', 'H', 'I', 'J', 'K', 'L', 'M', 'N', 'O', 'P', 'Q', 'R', 'S', 'T', 'U', 'V', 'W', 'X', 'Y', 'Z']\n",
    "    num = ['0', '1', '2', '3', '4', '5', '6', '7', '8', '9']\n",
    "    special = ['@', '#', '$', '%', '&', '*']\n",
    "    all = lower + upper + num + special\n",
    "\n",
    "    # Generating random password using selected characters\n",
    "    ran = random.sample(all, length)\n",
    "    password = \"\".join(ran)\n",
    "\n",
    "    # Displaying generated password in a message box and copying it to clipboard\n",
    "    messagebox.showinfo('Result', 'Your password {} \\n\\nPassword copied to clipboard'.format(password))\n",
    "    pyperclip.copy(password)\n",
    "\n",
    "# Creating a string variable to hold the password length entered by user\n",
    "string_pass = StringVar()\n",
    "\n",
    "# Adding background color to tkinter window \n",
    "gui.configure(bg=bg_color)\n",
    "\n",
    "# Creating label and entry field for password length input\n",
    "label = Label(gui, text=\"Password Length\", bg=bg_color, fg=fg_color).pack(pady=10)\n",
    "txt = Entry(gui, textvariable=string_pass).pack()\n",
    "\n",
    "# Creating button to trigger password generation process\n",
    "btn = Button(gui, text=\"Generate\", command=process, bg=bg_color, fg=fg_color).pack(pady=10)\n",
    "\n",
    "# Running the tkinter event loop\n",
    "gui.mainloop()"
   ]
  },
  {
   "cell_type": "code",
   "execution_count": null,
   "metadata": {},
   "outputs": [],
   "source": []
  }
 ],
 "metadata": {
  "kernelspec": {
   "display_name": "Python 3",
   "language": "python",
   "name": "python3"
  },
  "language_info": {
   "codemirror_mode": {
    "name": "ipython",
    "version": 3
   },
   "file_extension": ".py",
   "mimetype": "text/x-python",
   "name": "python",
   "nbconvert_exporter": "python",
   "pygments_lexer": "ipython3",
   "version": "3.7.3"
  }
 },
 "nbformat": 4,
 "nbformat_minor": 2
}
